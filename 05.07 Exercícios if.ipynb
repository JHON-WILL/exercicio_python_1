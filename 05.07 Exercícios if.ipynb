{
 "cells": [
  {
   "cell_type": "markdown",
   "metadata": {},
   "source": [
    "# Exercícios"
   ]
  },
  {
   "cell_type": "markdown",
   "metadata": {},
   "source": [
    "## 1. Criando um mini sistema de controle de estoque\n",
    "\n",
    "- Crie um sistema para ser usado pelo time de controle de estoque de um centro de distribuição.\n",
    "- Imagine que ao fim de todo dia, o time conta quantas unidades de produto existem no estoque. Se tivermos um estoque abaixo do estoque permitido para aquela categoria do produto, o time deve ser avisado (print) para fazer um novo pedido daquele produto.\n",
    "- Cada categoria de produto tem um estoque mínimo diferente, segundo a regra abaixo:\n",
    "\n",
    "- alimentos -> Estoque mínimo: 50\n",
    "- bebidas -> Estoque mínimo: 75\n",
    "- limpeza -> Estoque mínimo: 30\n",
    "\n",
    "Para isso vamos criar um programa que pede 3 inputs do usuário: nome do produto, categoria e quantidade atual em estoque.\n",
    "\n",
    "Se o produto tiver abaixo do estoque mínimo da categoria dele, o programa deve printar a mensagem \"Solicitar {produto} à equipe de compras, temos apenas {unidades} em estoque\"\n",
    "\n",
    "Exemplo: Se o usuário preenche os inputs com: bebidas, dolly, 90, o programa não deve exibir nenhuma mensagem.<br>\n",
    "Agora, se o usuário preenche os inputs com: bebidas, guaraná, 60, o programa deve exibir a mensagem \"Solicitar guaraná à equipe de compras, temos apenas 60 unidades em estoque.\n",
    "\n",
    "Obs: lembre de usar o int() para transformar o número inserido pelo usuário no input de string para int.<br>\n",
    "Obs2: Caso o usuário não preencha alguma das 3 informações, o programa deve exibir uma mensagem para avisá-lo de preencher corretamente."
   ]
  },
  {
   "cell_type": "code",
   "execution_count": 23,
   "metadata": {},
   "outputs": [
    {
     "name": "stdout",
     "output_type": "stream",
     "text": [
      "Qual a categoria do produto?(Obs: alimentos, bebidas ou limpeza) limpeza\n",
      "Qual o nome do produto? veja\n",
      "Qual a quantidade em estoque? 100\n"
     ]
    }
   ],
   "source": [
    "#seu código aqui\n",
    "estoque_minimo_alimentos = 50\n",
    "estoque_minimo_bebidas = 75\n",
    "estoque_minimo_limpeza = 30\n",
    "alimentos = str('alimentos')\n",
    "bebidas = str('bebidas')\n",
    "limpeza = str('limpeza')\n",
    "categoria = str(input('Qual a categoria do produto?(Obs: alimentos, bebidas ou limpeza) '))\n",
    "\n",
    "if categoria == alimentos:\n",
    "    nome_alimento = input('Qual o nome do alimento? ')\n",
    "    estoque_atual_alimentos = input('Qual a quantidade em estoque? ')\n",
    "    if nome_alimento == '':\n",
    "        print('preencha corretamente os campos acima')\n",
    "    elif estoque_atual_alimentos == '':\n",
    "        print('preencha corretamente os campos acima')\n",
    "    else:\n",
    "        estoque_atual_alimentos = int(estoque_atual_alimentos)\n",
    "        if estoque_atual_alimentos < estoque_minimo_alimentos:\n",
    "            print('Solicitar {} à equipe de compras, temos apenas {} em estoque'.format(nome_alimento, estoque_atual_alimentos))\n",
    "        else:\n",
    "            pass\n",
    "\n",
    "elif categoria == bebidas:\n",
    "    nome_bebida = input('Qual o nome da bebida? ')\n",
    "    estoque_atual_bebidas = input('Qual a quantidade em estoque? ')\n",
    "    if nome_bebida == '':\n",
    "        print('preencha corretamente os campos acima')\n",
    "    elif estoque_atual_bebidas == '':\n",
    "        print('preencha corretamente os campos acima')\n",
    "    else:\n",
    "        estoque_atual_bebidas = int(estoque_atual_bebidas)\n",
    "        if estoque_atual_bebidas < estoque_minimo_bebidas:\n",
    "            print('Solicitar {} à equipe de compras, temos apenas {} em estoque'.format(nome_bebida, estoque_atual_bebidas))\n",
    "        else:\n",
    "            pass\n",
    "\n",
    "elif categoria == limpeza:\n",
    "    nome_produto_limpeza = input('Qual o nome do produto? ')\n",
    "    estoque_atual_limpeza = input('Qual a quantidade em estoque? ')\n",
    "    if nome_produto_limpeza == '':\n",
    "        print('preencha corretamente os campos acima')\n",
    "    elif estoque_atual_limpeza == '':\n",
    "        print('preencha corretamente os campos acima')\n",
    "    else:\n",
    "        estoque_atual_limpeza = int(estoque_atual_limpeza)\n",
    "        if estoque_atual_limpeza < estoque_minimo_limpeza:\n",
    "            print('Solicitar {} à equipe de compras, temos apenas {} em estoque'.format(nome_produto_limpeza, estoque_atual_limpeza))\n",
    "        else:\n",
    "            pass\n",
    "else:\n",
    "    print('preencha o campo corretamente')"
   ]
  },
  {
   "cell_type": "code",
   "execution_count": null,
   "metadata": {},
   "outputs": [],
   "source": []
  },
  {
   "cell_type": "code",
   "execution_count": null,
   "metadata": {},
   "outputs": [],
   "source": []
  }
 ],
 "metadata": {
  "kernelspec": {
   "display_name": "Python 3 (ipykernel)",
   "language": "python",
   "name": "python3"
  },
  "language_info": {
   "codemirror_mode": {
    "name": "ipython",
    "version": 3
   },
   "file_extension": ".py",
   "mimetype": "text/x-python",
   "name": "python",
   "nbconvert_exporter": "python",
   "pygments_lexer": "ipython3",
   "version": "3.9.7"
  }
 },
 "nbformat": 4,
 "nbformat_minor": 4
}
